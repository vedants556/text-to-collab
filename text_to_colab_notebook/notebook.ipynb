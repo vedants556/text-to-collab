{
  "cells": [
    {
      "cell_type": "code",
      "execution_count": null,
      "metadata": {},
      "outputs": [],
      "source": [
        "NAME: SANIKA ARUN DUDHAL",
        "ROLL NO: 22102A0008",
        "TE CMPN A",
        "K-MEANS Clustering Algorithm",
        "import pandas as pd",
        "import random",
        "import statistics as st",
        "import matplotlib.pyplot as plt",
        "inp = [2, 4, 10, 12, 3, 20, 30, 50, 40, 80]",
        "k = 2",
        "cent = random.sample(inp, k)",
        "cent",
        "def dist(a,b):",
        "  return abs(a-b)",
        "c1=[]",
        "c2=[]",
        "cluster1=[]",
        "cluster2=[]",
        "mean1=0",
        "mean2=0",
        "prev_mean1=1",
        "prev_mean2=1",
        "c=0",
        "while(prev_mean1!=mean1 and prev_mean2!=mean2):",
        "  c+=1",
        "  prev_mean1=mean1",
        "  prev_mean2=mean2",
        "  cluster1=[]",
        "  cluster2=[]",
        "  for i in inp:",
        "    d1=dist(i,cent[0])",
        "    d2=dist(i,cent[1])",
        "    if(d1"
      ]
    }
  ],
  "metadata": {
    "kernelspec": {
      "display_name": "Python 3",
      "language": "python",
      "name": "python3"
    },
    "language_info": {
      "codemirror_mode": {
        "name": "ipython",
        "version": 3
      },
      "file_extension": ".py",
      "mimetype": "text/x-python",
      "name": "python",
      "nbconvert_exporter": "python",
      "pygments_lexer": "ipython3",
      "version": "3.7.3"
    }
  },
  "nbformat": 4,
  "nbformat_minor": 4
}